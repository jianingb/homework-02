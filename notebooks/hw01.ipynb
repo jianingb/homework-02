{
  "cells": [
    {
      "cell_type": "markdown",
      "metadata": {},
      "source": [
        "# DATASCI 101: Homework 02\n",
        "\n",
        "\n",
        "This is an iPython Notebook. You can edit the cells to answer the prompts. Feel free to add more cells as needed. Use \"Markdown\" cells writing text. When you are finished, use the Explorer pane to find this file. Right click and select download. Upload your submission on Gradescope!\n",
        "\n",
        "\n",
        "## Question 1\n",
        "\n",
        "### Q1.a\n",
        "\n",
        "Demonstrate using a Jupyter notebook.\n",
        "\n",
        "Create a new code cell after this cell and create a variable called `password` that contains the string \"chinchilla\" as its only item. Then run the cell. \n",
        "\n",
        "---\n"
      ]
    },
    {
      "cell_type": "code",
      "execution_count": 1,
      "metadata": {},
      "outputs": [],
      "source": [
        "password = \"chinchilla\""
      ]
    },
    {
      "cell_type": "markdown",
      "metadata": {},
      "source": [
        "\n",
        "Now create another code cell. In this one enter only the word `password` and run the cell. \n",
        "\n",
        "----\n"
      ]
    },
    {
      "cell_type": "code",
      "execution_count": 2,
      "metadata": {},
      "outputs": [
        {
          "data": {
            "text/plain": [
              "'chinchilla'"
            ]
          },
          "execution_count": 2,
          "metadata": {},
          "output_type": "execute_result"
        }
      ],
      "source": [
        "password"
      ]
    },
    {
      "cell_type": "markdown",
      "metadata": {},
      "source": [
        "\n",
        "Now edit this text cell to add an explanation of why the two cells behave differently.\n",
        "\n",
        "---\n",
        "* in the first unit, line of code assigns a value to the variable 'password' to let the the variable 'password' holds the string \"chinchilla\".\n",
        "* simply writing password in the second unit is an expression, and Python will display the value stored in the variable 'password' as previously defined, which is \"chinchilla\""
      ]
    },
    {
      "cell_type": "code",
      "execution_count": 3,
      "metadata": {},
      "outputs": [
        {
          "name": "stdout",
          "output_type": "stream",
          "text": [
            "chinchilla\n",
            "password\n"
          ]
        }
      ],
      "source": [
        "print(password)\n",
        "print(\"password\")"
      ]
    },
    {
      "cell_type": "markdown",
      "metadata": {},
      "source": [
        "* Using print(variable) to Show Computed Values\n",
        "* Using print(\"text\") to Add Descriptions"
      ]
    },
    {
      "cell_type": "markdown",
      "metadata": {},
      "source": [
        "\n",
        "Now create a cell that creates the `password` variable on one line and then has only the word `password` on the next line. Run the cell. Create another text cell after that one and explain how you can use the behavior you are seeing here to show your results on homework assignments.\n",
        "\n",
        "### Q1.b\n",
        "\n",
        "In the rest of this homework, we are going to write some code related to password security. \n",
        "\n",
        "Suppose a website stores passwords in plain text. The user will supply a password, and the website will store it in a variable called `attempt`.\n",
        "\n",
        "Write a function that takes in the `attempt` and the `password` and returns `True` if they are the same and `False` otherwise.\n",
        "\n",
        "* Verify (show in code) that your function works by calling it with the password \"chinchilla\" and the attempt \"chinchilla\".\n",
        "* Verify that your function works by calling it with the password \"chinchilla\" and the attempt \"Chinchilla\".\n",
        "\n",
        "Use comments to explain what you expect to see in the output of your function from previous two applications of your function."
      ]
    },
    {
      "cell_type": "code",
      "execution_count": 4,
      "metadata": {},
      "outputs": [
        {
          "name": "stdout",
          "output_type": "stream",
          "text": [
            "True\n",
            "False\n"
          ]
        }
      ],
      "source": [
        "def verify_password(attempt, password):\n",
        "    return attempt == password\n",
        "# Test cases\n",
        "print(verify_password(\"chinchilla\", \"chinchilla\")) #expecting output to be \"True\"\n",
        "print(verify_password(\"chinchilla\", \"Chinchilla\")) #expecting output to be \"False\""
      ]
    },
    {
      "cell_type": "markdown",
      "metadata": {},
      "source": [
        "### Q1.c\n",
        "\n",
        "Suppose we have a **dictionary** of users and their passwords. The keys are the usernames and the values are the passwords. \n",
        "\n",
        "Here are several users and their passwords:\n",
        "\n",
        "| Username | Password |\n",
        "|----------|----------|\n",
        "| alice    | chinchilla |\n",
        "| bob      | 123456 |\n",
        "| charlie  | password |\n",
        "\n",
        "Create a dictionary called `users` that contains the above information.\n",
        "\n",
        "Now write a function that takes in a `username` and a `password` and returns `True` if the `username` is in the `users` dictionary and the `password` matches the password in the dictionary. Otherwise, it should return `False`.\n",
        "\n",
        "* Verify that your function works by calling it with the username \"alice\" and the password \"chinchilla\".\n",
        "* Verify that your function works by calling it with the username \"alice\" and the password \"Chinchilla\".\n",
        "* Verify that your function works by calling it with the username \"bobby\" and the password \"123456\".\n",
        "\n",
        "Again, use comments to explain what you expect to see in the output of your function from previous three applications of your function.\n",
        "\n",
        "To get you started, here is a little helper function that will return `True` if a key is in a dictionary and `False` otherwise."
      ]
    },
    {
      "cell_type": "code",
      "execution_count": 5,
      "metadata": {},
      "outputs": [],
      "source": [
        "def key_in_dict(key, d):\n",
        "    return key in d"
      ]
    },
    {
      "cell_type": "code",
      "execution_count": 6,
      "metadata": {},
      "outputs": [
        {
          "name": "stdout",
          "output_type": "stream",
          "text": [
            "True\n",
            "False\n",
            "False\n"
          ]
        }
      ],
      "source": [
        "users = {\n",
        "    \"alice\": \"chinchilla\",\n",
        "    \"bob\": \"123456\",\n",
        "    \"charlie\": \"password\"\n",
        "}\n",
        "\n",
        "def verify_user(username, password):\n",
        "    if username in users and users[username] == password:\n",
        "        return True\n",
        "    return False\n",
        "print(verify_user(\"alice\", \"chinchilla\"))  # Expected output: True\n",
        "print(verify_user(\"alice\", \"Chinchilla\"))  # Expected output: False\n",
        "print(verify_user(\"bobby\", \"123456\"))      # Expected output: False"
      ]
    },
    {
      "cell_type": "markdown",
      "metadata": {},
      "source": [
        "Note: think about how you can use `if` statements to help you (or ask the AI assistant for help).\n",
        "\n",
        "\n",
        "### Q1.d\n",
        "\n",
        "Generally, we wouldn't want to keep strings as plain text. A frequent strategy is to use a [crypographic hash function](https://en.wikipedia.org/wiki/Cryptographic_hash_function) to make the plain text password unreadable. A hashing function will replace the input with a different string or number. It is very difficult to go backwards from the hashed value to the original string, but every time we hash, we get the same value.\n",
        "\n",
        "Use the `hash2` function on the password. Demonstrate that each time we use it we get the same value by calling it twice (remember that only the last line of a cell will print out). You answer should have an explicit `True` value as the output."
      ]
    },
    {
      "cell_type": "code",
      "execution_count": 7,
      "metadata": {},
      "outputs": [],
      "source": [
        "import hashlib\n",
        "\n",
        "def hash(x):\n",
        "  return hashlib.sha256(x.encode('utf-8')).hexdigest()"
      ]
    },
    {
      "cell_type": "code",
      "execution_count": 8,
      "metadata": {},
      "outputs": [
        {
          "data": {
            "text/plain": [
              "True"
            ]
          },
          "execution_count": 8,
          "metadata": {},
          "output_type": "execute_result"
        }
      ],
      "source": [
        "def hash2(password):\n",
        "    return hashlib.sha256(password.encode()).hexdigest()\n",
        "\n",
        "hashed_password_1 = hash2(\"chinchilla\")\n",
        "hashed_password_2 = hash2(\"chinchilla\")\n",
        "\n",
        "hashed_password_1 == hashed_password_2"
      ]
    },
    {
      "cell_type": "markdown",
      "metadata": {},
      "source": [
        "### Q1.e\n",
        "\n",
        "If a list of passwords were stolen, the malicious actors might be able to undo the hashing by guessing common words. This called a dictionary attack, as each word (and often combinations of common words and other characters) is hashed and then compared to the stolen list of passwords to see if it is present.\n"
      ]
    },
    {
      "cell_type": "code",
      "execution_count": 9,
      "metadata": {},
      "outputs": [
        {
          "data": {
            "text/plain": [
              "'b00ef262afae566b51f740124a6b12d982a2cff1bbf2ab5632cb548e98da6feb'"
            ]
          },
          "execution_count": 9,
          "metadata": {},
          "output_type": "execute_result"
        }
      ],
      "source": [
        "hash(\"wolverine\")"
      ]
    },
    {
      "cell_type": "code",
      "execution_count": 10,
      "metadata": {},
      "outputs": [],
      "source": [
        "stolen_password = 'b00ef262afae566b51f740124a6b12d982a2cff1bbf2ab5632cb548e98da6feb'"
      ]
    },
    {
      "cell_type": "markdown",
      "metadata": {},
      "source": [
        "Hash the following three words to see if one of them is the stolen password. Use `==` to evaluate if the hashed version is the same as the stolen password hash. Use a for loop or list comprehension to avoid repeating yourself. Can we guess the password?\n",
        "\n",
        "* badger\n",
        "* wolverine\n",
        "* jaguar"
      ]
    },
    {
      "cell_type": "code",
      "execution_count": 11,
      "metadata": {},
      "outputs": [
        {
          "name": "stdout",
          "output_type": "stream",
          "text": [
            "wolverine\n"
          ]
        }
      ],
      "source": [
        "passwords = [\"badger\", \"wolverine\", \"jaguar\"]\n",
        "for password in passwords:\n",
        "    if hash2(password) == stolen_password:\n",
        "        print(password)"
      ]
    },
    {
      "cell_type": "markdown",
      "metadata": {},
      "source": [
        "### Q1.f\n",
        "\n",
        "A better way to protect passwords is to add a \"salt\" to all user's passwords on a given site. The salt is a secret string that is prepended to each password *before* hashing.\n",
        "\n",
        "Complete the function below that combines the `salt` with the supplied `password` to strengthen it. Demonstrate that just hashing the correct password is insufficient to guess the password if you do not know the salt as well (again use `==`)."
      ]
    },
    {
      "cell_type": "code",
      "execution_count": 12,
      "metadata": {},
      "outputs": [
        {
          "data": {
            "text/plain": [
              "False"
            ]
          },
          "execution_count": 12,
          "metadata": {},
          "output_type": "execute_result"
        }
      ],
      "source": [
        "def salted_hash(password):\n",
        "  salt = \"zoology\"\n",
        "  return hash(salt + password) # replace 0 with the salted hash\n",
        " \n",
        "password_with_salt = salted_hash(\"cardinal\")\n",
        "unsalted_password = hash2(\"cardinal\")\n",
        "\n",
        "password_with_salt == unsalted_password\n",
        "\n",
        "\n",
        "# compute the salted and hashed version of the password \"cardinal\"\n",
        "# demonstrate that we cannot guess without the salt."
      ]
    },
    {
      "cell_type": "markdown",
      "metadata": {},
      "source": [
        "## Question 2\n",
        "\n",
        "### Q2.a\n",
        "\n",
        "Run the code in the following cell. What does the `%` operator do?"
      ]
    },
    {
      "cell_type": "code",
      "execution_count": 13,
      "metadata": {},
      "outputs": [
        {
          "data": {
            "text/plain": [
              "[1, 0, 1]"
            ]
          },
          "execution_count": 13,
          "metadata": {},
          "output_type": "execute_result"
        }
      ],
      "source": [
        "[3 % 2, 4 % 2, 5 % 2]"
      ]
    },
    {
      "cell_type": "markdown",
      "metadata": {},
      "source": [
        "*  It returns the remainder of the division of two numbers. "
      ]
    },
    {
      "cell_type": "markdown",
      "metadata": {},
      "source": [
        "### Q2.b\n",
        "\n",
        "Complete the following function that will compute if an input is even or odd:"
      ]
    },
    {
      "cell_type": "code",
      "execution_count": 14,
      "metadata": {},
      "outputs": [],
      "source": [
        "def is_odd(num):\n",
        "    return num % 2 != 0"
      ]
    },
    {
      "cell_type": "code",
      "execution_count": 15,
      "metadata": {},
      "outputs": [
        {
          "data": {
            "text/plain": [
              "False"
            ]
          },
          "execution_count": 15,
          "metadata": {},
          "output_type": "execute_result"
        }
      ],
      "source": [
        "is_odd(16) # Should return False"
      ]
    },
    {
      "cell_type": "code",
      "execution_count": 16,
      "metadata": {},
      "outputs": [
        {
          "data": {
            "text/plain": [
              "True"
            ]
          },
          "execution_count": 16,
          "metadata": {},
          "output_type": "execute_result"
        }
      ],
      "source": [
        "is_odd(17) # Should return True"
      ]
    },
    {
      "cell_type": "markdown",
      "metadata": {},
      "source": [
        "### Q2.c\n",
        "\n",
        "Here is some input data:"
      ]
    },
    {
      "cell_type": "code",
      "execution_count": 17,
      "metadata": {},
      "outputs": [],
      "source": [
        "some_numbers = [91, 88, 38, 103, 199372, 3, 4945, 20098]"
      ]
    },
    {
      "cell_type": "code",
      "execution_count": 18,
      "metadata": {},
      "outputs": [
        {
          "name": "stdout",
          "output_type": "stream",
          "text": [
            "91\n",
            "103\n",
            "3\n",
            "4945\n"
          ]
        }
      ],
      "source": [
        "for num in some_numbers:\n",
        "    if is_odd(num):\n",
        "         print (num)"
      ]
    },
    {
      "cell_type": "markdown",
      "metadata": {},
      "source": [
        "Write a **for loop** to select just the odd numbers of `some_numbers`. Make sure to use your function from part (b). Print out your result.\n",
        "\n",
        "\n",
        "### Q2d\n",
        "\n",
        "Using a **list comprehension** select just the odd elements of `some_numbers`, convert them to strings (using the `str` function), and then `hash2` them. **Do not** use any results from part (c) in your solution.\n"
      ]
    },
    {
      "cell_type": "code",
      "execution_count": 19,
      "metadata": {},
      "outputs": [
        {
          "data": {
            "text/plain": [
              "['1da51b8d8ff98f6a48f80ae79fe3ca6c26e1abb7b7d125259255d6d2b875ea08',\n",
              " '454f63ac30c8322997ef025edff6abd23e0dbe7b8a3d5126a894e4a168c1b59b',\n",
              " '4e07408562bedb8b60ce05c1decfe3ad16b72230967de01f640b7e4729b49fce',\n",
              " 'dcc29e4daf71d69ed930fed1226afabff8390db9a6ead22e08392878ffa7d65d']"
            ]
          },
          "execution_count": 19,
          "metadata": {},
          "output_type": "execute_result"
        }
      ],
      "source": [
        "[hash2(str(num)) for num in some_numbers if is_odd(num)]\n"
      ]
    },
    {
      "cell_type": "markdown",
      "metadata": {},
      "source": [
        "\n",
        "### Q2e\n",
        "\n",
        "For a particular website, suppose users could only choose positive, whole numbers as passwords, and the site neglected use salting to make the numbers harder to guess.\n",
        "\n",
        "Here is an example stolen value."
      ]
    },
    {
      "cell_type": "code",
      "execution_count": 20,
      "metadata": {},
      "outputs": [
        {
          "data": {
            "text/plain": [
              "'5cf4e26bd3d87da5e03f80a43a64f1220a1f4ba9e1d6348caea83c06353c3f39'"
            ]
          },
          "execution_count": 20,
          "metadata": {},
          "output_type": "execute_result"
        }
      ],
      "source": [
        "hash(str(206))"
      ]
    },
    {
      "cell_type": "code",
      "execution_count": 21,
      "metadata": {
        "executionInfo": {
          "elapsed": 150,
          "status": "ok",
          "timestamp": 1707340720865,
          "user": {
            "displayName": "Sang Hoo Kook",
            "userId": "10303743989712676976"
          },
          "user_tz": 300
        }
      },
      "outputs": [],
      "source": [
        "hashed_number = '5cf4e26bd3d87da5e03f80a43a64f1220a1f4ba9e1d6348caea83c06353c3f39'"
      ]
    },
    {
      "cell_type": "markdown",
      "metadata": {},
      "source": [
        "Carry out a dictionary attach by implementing the following:\n",
        "\n",
        "* Write a function that takes a number as an input, and returns True if that number (after being coverted to a string) hashes to the `hashed_number` value.\n",
        "* Use this function to find out if value in 0 to 100000 was the password. (Hint: use the `range(a, b)` function which gives back a sequence of values from a to (b - 1)).\n"
      ]
    },
    {
      "cell_type": "code",
      "execution_count": 24,
      "metadata": {},
      "outputs": [
        {
          "name": "stdout",
          "output_type": "stream",
          "text": [
            "206\n"
          ]
        }
      ],
      "source": [
        "def check_password(num):\n",
        "    if hash(str(num)) == hashed_number:\n",
        "        return True\n",
        "def find_value(num):\n",
        "    for num in range(0,100001):\n",
        "        if check_password(num):\n",
        "            return num\n",
        "    \n",
        "print (find_value(num))"
      ]
    }
  ],
  "metadata": {
    "kernelspec": {
      "display_name": "Python 3",
      "language": "python",
      "name": "python3"
    },
    "language_info": {
      "codemirror_mode": {
        "name": "ipython",
        "version": 3
      },
      "file_extension": ".py",
      "mimetype": "text/x-python",
      "name": "python",
      "nbconvert_exporter": "python",
      "pygments_lexer": "ipython3",
      "version": "3.12.1"
    }
  },
  "nbformat": 4,
  "nbformat_minor": 4
}
